{
 "cells": [
  {
   "cell_type": "markdown",
   "id": "5b54ed1d",
   "metadata": {},
   "source": [
    "## Final Project Submission\n",
    "\n",
    "Please fill out:\n",
    "* Student name: Vincent Barchok Ngochoch\n",
    "* Student pace: full time\n",
    "* Scheduled project review date/time: \n",
    "* Instructor name: Samuel Karu\n",
    "* Blog post URL:"
   ]
  },
  {
   "cell_type": "markdown",
   "id": "b064143c",
   "metadata": {},
   "source": [
    "# Loan Default Prediction Project\n",
    "\n",
    "This notebook presents a professional end-to-end machine learning project to predict loan default risk. It includes data preprocessing, class imbalance treatment using SMOTE, model building (Logistic Regression & Decision Tree), evaluation using business-relevant metrics, and recommendations tailored for bank executives."
   ]
  },
  {
   "cell_type": "markdown",
   "id": "ae6f1962",
   "metadata": {},
   "source": [
    "\n",
    "#  Loan Default Prediction Project\n",
    "\n",
    "## Business Objective\n",
    "The goal of this project is to develop a predictive model to identify potential loan defaulters using historical customer data. This insight will help the bank reduce Non-Performing Loans (NPLs), optimize risk-based pricing, and enhance early intervention strategies.\n",
    "\n",
    "## Problem Statements\n",
    "1. Can we predict whether a customer will default on a loan based on their historical data?\n",
    "2. What are the most significant features that influence loan default?\n",
    "3. How do different models (Logistic Regression vs Decision Tree) perform in predicting loan defaults?\n"
   ]
  },
  {
   "cell_type": "code",
   "execution_count": 1,
   "id": "0464be92",
   "metadata": {},
   "outputs": [],
   "source": [
    "\n",
    "# Importing Required Libraries\n",
    "import pandas as pd\n",
    "import numpy as np\n",
    "import matplotlib.pyplot as plt\n",
    "import seaborn as sns\n",
    "\n",
    "from sklearn.model_selection import train_test_split, GridSearchCV\n",
    "from imblearn.over_sampling import SMOTE\n",
    "from sklearn.preprocessing import StandardScaler, OneHotEncoder\n",
    "from sklearn.compose import ColumnTransformer\n",
    "from sklearn.pipeline import Pipeline\n",
    "from sklearn.linear_model import LogisticRegression\n",
    "from sklearn.tree import DecisionTreeClassifier\n",
    "from sklearn.metrics import classification_report, confusion_matrix, roc_auc_score, roc_curve, accuracy_score, precision_score, recall_score, f1_score\n"
   ]
  },
  {
   "cell_type": "markdown",
   "id": "4b9411b4",
   "metadata": {},
   "source": [
    "\n",
    "###  Data Loading and Inspection\n",
    "\n",
    "In this project, we use a dataset containing **10,000 records** related to individual financial profiles, aimed at predicting **loan default**. The dataset has the following key features:\n",
    "\n",
    "* **Index**: A unique identifier for each record.\n",
    "* **Employed** *(binary)*: Indicates employment status — `1` if employed, `0` if unemployed.\n",
    "* **Bank Balance** *(numeric)*: The current bank balance of the individual, in currency units.\n",
    "* **Annual Salary** *(numeric)*: The individual's annual income.\n",
    "* **Defaulted?** *(binary — Target Variable)*: Indicates whether the individual has defaulted on a loan — `1` for defaulted, `0` otherwise.\n",
    "\n",
    "This dataset is ideal for a **binary classification problem**, where the goal is to predict the likelihood of a customer defaulting on a loan using logistic regression as a baseline model and decision trees for improved performance.\n",
    "\n",
    "We will now load the dataset, inspect its structure, and begin exploratory analysis to uncover patterns and insights.\n",
    "\n"
   ]
  },
  {
   "cell_type": "code",
   "execution_count": 2,
   "id": "eecd6044",
   "metadata": {},
   "outputs": [
    {
     "data": {
      "text/html": [
       "<div>\n",
       "<style scoped>\n",
       "    .dataframe tbody tr th:only-of-type {\n",
       "        vertical-align: middle;\n",
       "    }\n",
       "\n",
       "    .dataframe tbody tr th {\n",
       "        vertical-align: top;\n",
       "    }\n",
       "\n",
       "    .dataframe thead th {\n",
       "        text-align: right;\n",
       "    }\n",
       "</style>\n",
       "<table border=\"1\" class=\"dataframe\">\n",
       "  <thead>\n",
       "    <tr style=\"text-align: right;\">\n",
       "      <th></th>\n",
       "      <th>Employed</th>\n",
       "      <th>Bank Balance</th>\n",
       "      <th>Annual Salary</th>\n",
       "      <th>Defaulted?</th>\n",
       "    </tr>\n",
       "  </thead>\n",
       "  <tbody>\n",
       "    <tr>\n",
       "      <th>0</th>\n",
       "      <td>1</td>\n",
       "      <td>8754.36</td>\n",
       "      <td>532339.56</td>\n",
       "      <td>0</td>\n",
       "    </tr>\n",
       "    <tr>\n",
       "      <th>1</th>\n",
       "      <td>0</td>\n",
       "      <td>9806.16</td>\n",
       "      <td>145273.56</td>\n",
       "      <td>0</td>\n",
       "    </tr>\n",
       "    <tr>\n",
       "      <th>2</th>\n",
       "      <td>1</td>\n",
       "      <td>12882.60</td>\n",
       "      <td>381205.68</td>\n",
       "      <td>0</td>\n",
       "    </tr>\n",
       "    <tr>\n",
       "      <th>3</th>\n",
       "      <td>1</td>\n",
       "      <td>6351.00</td>\n",
       "      <td>428453.88</td>\n",
       "      <td>0</td>\n",
       "    </tr>\n",
       "    <tr>\n",
       "      <th>4</th>\n",
       "      <td>1</td>\n",
       "      <td>9427.92</td>\n",
       "      <td>461562.00</td>\n",
       "      <td>0</td>\n",
       "    </tr>\n",
       "  </tbody>\n",
       "</table>\n",
       "</div>"
      ],
      "text/plain": [
       "   Employed  Bank Balance  Annual Salary  Defaulted?\n",
       "0         1       8754.36      532339.56           0\n",
       "1         0       9806.16      145273.56           0\n",
       "2         1      12882.60      381205.68           0\n",
       "3         1       6351.00      428453.88           0\n",
       "4         1       9427.92      461562.00           0"
      ]
     },
     "execution_count": 2,
     "metadata": {},
     "output_type": "execute_result"
    }
   ],
   "source": [
    "# Load the dataset\n",
    "df = pd.read_csv(\"Data.csv\")\n",
    "\n",
    "# Drop the first column (often an unnamed index column)\n",
    "df.drop(df.columns[0], axis=1, inplace=True)\n",
    "\n",
    "# Display the first five rows to understand the data structure\n",
    "df.head()\n",
    "\n"
   ]
  },
  {
   "cell_type": "code",
   "execution_count": 3,
   "id": "19bf1c7e",
   "metadata": {},
   "outputs": [
    {
     "name": "stdout",
     "output_type": "stream",
     "text": [
      "Shape of the dataset: (10000, 4)\n",
      "\n",
      "Data Types and Non-Null Counts:\n",
      "<class 'pandas.core.frame.DataFrame'>\n",
      "RangeIndex: 10000 entries, 0 to 9999\n",
      "Data columns (total 4 columns):\n",
      " #   Column         Non-Null Count  Dtype  \n",
      "---  ------         --------------  -----  \n",
      " 0   Employed       10000 non-null  int64  \n",
      " 1   Bank Balance   10000 non-null  float64\n",
      " 2   Annual Salary  10000 non-null  float64\n",
      " 3   Defaulted?     10000 non-null  int64  \n",
      "dtypes: float64(2), int64(2)\n",
      "memory usage: 312.6 KB\n",
      "\n",
      "First 5 Rows of the Dataset:\n",
      "\n",
      "Missing Values in Each Column:\n",
      "Employed         0\n",
      "Bank Balance     0\n",
      "Annual Salary    0\n",
      "Defaulted?       0\n",
      "dtype: int64\n",
      "\n",
      "Statistical Summary of Numeric Features:\n"
     ]
    },
    {
     "data": {
      "text/html": [
       "<div>\n",
       "<style scoped>\n",
       "    .dataframe tbody tr th:only-of-type {\n",
       "        vertical-align: middle;\n",
       "    }\n",
       "\n",
       "    .dataframe tbody tr th {\n",
       "        vertical-align: top;\n",
       "    }\n",
       "\n",
       "    .dataframe thead th {\n",
       "        text-align: right;\n",
       "    }\n",
       "</style>\n",
       "<table border=\"1\" class=\"dataframe\">\n",
       "  <thead>\n",
       "    <tr style=\"text-align: right;\">\n",
       "      <th></th>\n",
       "      <th>Employed</th>\n",
       "      <th>Bank Balance</th>\n",
       "      <th>Annual Salary</th>\n",
       "      <th>Defaulted?</th>\n",
       "    </tr>\n",
       "  </thead>\n",
       "  <tbody>\n",
       "    <tr>\n",
       "      <th>count</th>\n",
       "      <td>10000.000000</td>\n",
       "      <td>10000.000000</td>\n",
       "      <td>10000.000000</td>\n",
       "      <td>10000.000000</td>\n",
       "    </tr>\n",
       "    <tr>\n",
       "      <th>mean</th>\n",
       "      <td>0.705600</td>\n",
       "      <td>10024.498524</td>\n",
       "      <td>402203.782224</td>\n",
       "      <td>0.033300</td>\n",
       "    </tr>\n",
       "    <tr>\n",
       "      <th>std</th>\n",
       "      <td>0.455795</td>\n",
       "      <td>5804.579486</td>\n",
       "      <td>160039.674988</td>\n",
       "      <td>0.179428</td>\n",
       "    </tr>\n",
       "    <tr>\n",
       "      <th>min</th>\n",
       "      <td>0.000000</td>\n",
       "      <td>0.000000</td>\n",
       "      <td>9263.640000</td>\n",
       "      <td>0.000000</td>\n",
       "    </tr>\n",
       "    <tr>\n",
       "      <th>25%</th>\n",
       "      <td>0.000000</td>\n",
       "      <td>5780.790000</td>\n",
       "      <td>256085.520000</td>\n",
       "      <td>0.000000</td>\n",
       "    </tr>\n",
       "    <tr>\n",
       "      <th>50%</th>\n",
       "      <td>1.000000</td>\n",
       "      <td>9883.620000</td>\n",
       "      <td>414631.740000</td>\n",
       "      <td>0.000000</td>\n",
       "    </tr>\n",
       "    <tr>\n",
       "      <th>75%</th>\n",
       "      <td>1.000000</td>\n",
       "      <td>13995.660000</td>\n",
       "      <td>525692.760000</td>\n",
       "      <td>0.000000</td>\n",
       "    </tr>\n",
       "    <tr>\n",
       "      <th>max</th>\n",
       "      <td>1.000000</td>\n",
       "      <td>31851.840000</td>\n",
       "      <td>882650.760000</td>\n",
       "      <td>1.000000</td>\n",
       "    </tr>\n",
       "  </tbody>\n",
       "</table>\n",
       "</div>"
      ],
      "text/plain": [
       "           Employed  Bank Balance  Annual Salary    Defaulted?\n",
       "count  10000.000000  10000.000000   10000.000000  10000.000000\n",
       "mean       0.705600  10024.498524  402203.782224      0.033300\n",
       "std        0.455795   5804.579486  160039.674988      0.179428\n",
       "min        0.000000      0.000000    9263.640000      0.000000\n",
       "25%        0.000000   5780.790000  256085.520000      0.000000\n",
       "50%        1.000000   9883.620000  414631.740000      0.000000\n",
       "75%        1.000000  13995.660000  525692.760000      0.000000\n",
       "max        1.000000  31851.840000  882650.760000      1.000000"
      ]
     },
     "execution_count": 3,
     "metadata": {},
     "output_type": "execute_result"
    }
   ],
   "source": [
    "# Check the number of rows and columns\n",
    "print(\"Shape of the dataset:\", df.shape)\n",
    "\n",
    "# Display column names and data types\n",
    "print(\"\\nData Types and Non-Null Counts:\")\n",
    "df.info()\n",
    "\n",
    "# Preview the top 5 records\n",
    "print(\"\\nFirst 5 Rows of the Dataset:\")\n",
    "df.head()\n",
    "\n",
    "# Check for missing values\n",
    "print(\"\\nMissing Values in Each Column:\")\n",
    "print(df.isnull().sum())\n",
    "\n",
    "# Basic statistical overview\n",
    "print(\"\\nStatistical Summary of Numeric Features:\")\n",
    "df.describe()\n"
   ]
  },
  {
   "cell_type": "markdown",
   "id": "c1ee5bbd",
   "metadata": {},
   "source": [
    "##  Data Cleaning"
   ]
  },
  {
   "cell_type": "code",
   "execution_count": 4,
   "id": "6c293f34",
   "metadata": {},
   "outputs": [
    {
     "name": "stdout",
     "output_type": "stream",
     "text": [
      "Missing values per column:\n",
      " Employed         0\n",
      "Bank Balance     0\n",
      "Annual Salary    0\n",
      "Defaulted?       0\n",
      "dtype: int64\n",
      "\n",
      "Number of duplicate rows: 0\n",
      "\n",
      "Summary of Bank Balance and Annual Salary (Pre-outlier removal):\n"
     ]
    },
    {
     "data": {
      "text/html": [
       "<div>\n",
       "<style scoped>\n",
       "    .dataframe tbody tr th:only-of-type {\n",
       "        vertical-align: middle;\n",
       "    }\n",
       "\n",
       "    .dataframe tbody tr th {\n",
       "        vertical-align: top;\n",
       "    }\n",
       "\n",
       "    .dataframe thead th {\n",
       "        text-align: right;\n",
       "    }\n",
       "</style>\n",
       "<table border=\"1\" class=\"dataframe\">\n",
       "  <thead>\n",
       "    <tr style=\"text-align: right;\">\n",
       "      <th></th>\n",
       "      <th>Bank Balance</th>\n",
       "      <th>Annual Salary</th>\n",
       "    </tr>\n",
       "  </thead>\n",
       "  <tbody>\n",
       "    <tr>\n",
       "      <th>count</th>\n",
       "      <td>10000.000000</td>\n",
       "      <td>10000.000000</td>\n",
       "    </tr>\n",
       "    <tr>\n",
       "      <th>mean</th>\n",
       "      <td>10024.498524</td>\n",
       "      <td>402203.782224</td>\n",
       "    </tr>\n",
       "    <tr>\n",
       "      <th>std</th>\n",
       "      <td>5804.579486</td>\n",
       "      <td>160039.674988</td>\n",
       "    </tr>\n",
       "    <tr>\n",
       "      <th>min</th>\n",
       "      <td>0.000000</td>\n",
       "      <td>9263.640000</td>\n",
       "    </tr>\n",
       "    <tr>\n",
       "      <th>25%</th>\n",
       "      <td>5780.790000</td>\n",
       "      <td>256085.520000</td>\n",
       "    </tr>\n",
       "    <tr>\n",
       "      <th>50%</th>\n",
       "      <td>9883.620000</td>\n",
       "      <td>414631.740000</td>\n",
       "    </tr>\n",
       "    <tr>\n",
       "      <th>75%</th>\n",
       "      <td>13995.660000</td>\n",
       "      <td>525692.760000</td>\n",
       "    </tr>\n",
       "    <tr>\n",
       "      <th>max</th>\n",
       "      <td>31851.840000</td>\n",
       "      <td>882650.760000</td>\n",
       "    </tr>\n",
       "  </tbody>\n",
       "</table>\n",
       "</div>"
      ],
      "text/plain": [
       "       Bank Balance  Annual Salary\n",
       "count  10000.000000   10000.000000\n",
       "mean   10024.498524  402203.782224\n",
       "std     5804.579486  160039.674988\n",
       "min        0.000000    9263.640000\n",
       "25%     5780.790000  256085.520000\n",
       "50%     9883.620000  414631.740000\n",
       "75%    13995.660000  525692.760000\n",
       "max    31851.840000  882650.760000"
      ]
     },
     "metadata": {},
     "output_type": "display_data"
    },
    {
     "name": "stdout",
     "output_type": "stream",
     "text": [
      "\n",
      "Cleaned Statistical Summary:\n"
     ]
    },
    {
     "data": {
      "text/html": [
       "<div>\n",
       "<style scoped>\n",
       "    .dataframe tbody tr th:only-of-type {\n",
       "        vertical-align: middle;\n",
       "    }\n",
       "\n",
       "    .dataframe tbody tr th {\n",
       "        vertical-align: top;\n",
       "    }\n",
       "\n",
       "    .dataframe thead th {\n",
       "        text-align: right;\n",
       "    }\n",
       "</style>\n",
       "<table border=\"1\" class=\"dataframe\">\n",
       "  <thead>\n",
       "    <tr style=\"text-align: right;\">\n",
       "      <th></th>\n",
       "      <th>Employed</th>\n",
       "      <th>Bank Balance</th>\n",
       "      <th>Annual Salary</th>\n",
       "      <th>Defaulted?</th>\n",
       "    </tr>\n",
       "  </thead>\n",
       "  <tbody>\n",
       "    <tr>\n",
       "      <th>count</th>\n",
       "      <td>9801.000000</td>\n",
       "      <td>9801.000000</td>\n",
       "      <td>9801.000000</td>\n",
       "      <td>9801.00000</td>\n",
       "    </tr>\n",
       "    <tr>\n",
       "      <th>mean</th>\n",
       "      <td>0.705744</td>\n",
       "      <td>9876.345748</td>\n",
       "      <td>398964.998200</td>\n",
       "      <td>0.02612</td>\n",
       "    </tr>\n",
       "    <tr>\n",
       "      <th>std</th>\n",
       "      <td>0.455731</td>\n",
       "      <td>5605.025979</td>\n",
       "      <td>155919.453444</td>\n",
       "      <td>0.15950</td>\n",
       "    </tr>\n",
       "    <tr>\n",
       "      <th>min</th>\n",
       "      <td>0.000000</td>\n",
       "      <td>0.000000</td>\n",
       "      <td>9263.640000</td>\n",
       "      <td>0.00000</td>\n",
       "    </tr>\n",
       "    <tr>\n",
       "      <th>25%</th>\n",
       "      <td>0.000000</td>\n",
       "      <td>5747.040000</td>\n",
       "      <td>255877.920000</td>\n",
       "      <td>0.00000</td>\n",
       "    </tr>\n",
       "    <tr>\n",
       "      <th>50%</th>\n",
       "      <td>1.000000</td>\n",
       "      <td>9807.000000</td>\n",
       "      <td>413014.440000</td>\n",
       "      <td>0.00000</td>\n",
       "    </tr>\n",
       "    <tr>\n",
       "      <th>75%</th>\n",
       "      <td>1.000000</td>\n",
       "      <td>13854.960000</td>\n",
       "      <td>522477.360000</td>\n",
       "      <td>0.00000</td>\n",
       "    </tr>\n",
       "    <tr>\n",
       "      <th>max</th>\n",
       "      <td>1.000000</td>\n",
       "      <td>24101.520000</td>\n",
       "      <td>739864.200000</td>\n",
       "      <td>1.00000</td>\n",
       "    </tr>\n",
       "  </tbody>\n",
       "</table>\n",
       "</div>"
      ],
      "text/plain": [
       "          Employed  Bank Balance  Annual Salary  Defaulted?\n",
       "count  9801.000000   9801.000000    9801.000000  9801.00000\n",
       "mean      0.705744   9876.345748  398964.998200     0.02612\n",
       "std       0.455731   5605.025979  155919.453444     0.15950\n",
       "min       0.000000      0.000000    9263.640000     0.00000\n",
       "25%       0.000000   5747.040000  255877.920000     0.00000\n",
       "50%       1.000000   9807.000000  413014.440000     0.00000\n",
       "75%       1.000000  13854.960000  522477.360000     0.00000\n",
       "max       1.000000  24101.520000  739864.200000     1.00000"
      ]
     },
     "metadata": {},
     "output_type": "display_data"
    },
    {
     "name": "stdout",
     "output_type": "stream",
     "text": [
      "\n",
      "Data types after cleaning:\n",
      "Employed           int64\n",
      "Bank Balance     float64\n",
      "Annual Salary    float64\n",
      "Defaulted?         int64\n",
      "dtype: object\n"
     ]
    }
   ],
   "source": [
    "# 1. Re-check for missing values\n",
    "print(\"Missing values per column:\\n\", df.isnull().sum())\n",
    "\n",
    "# 2. Check and drop duplicate records\n",
    "duplicate_count = df.duplicated().sum()\n",
    "print(f\"\\nNumber of duplicate rows: {duplicate_count}\")\n",
    "df = df.drop_duplicates()\n",
    "\n",
    "# 3. Inspect statistical summary again\n",
    "print(\"\\nSummary of Bank Balance and Annual Salary (Pre-outlier removal):\")\n",
    "display(df[['Bank Balance', 'Annual Salary']].describe())\n",
    "\n",
    "# 4. Remove outliers beyond the 99th percentile\n",
    "q_high = df[['Bank Balance', 'Annual Salary']].quantile(0.99)\n",
    "df = df[df['Bank Balance'] <= q_high['Bank Balance']]\n",
    "df = df[df['Annual Salary'] <= q_high['Annual Salary']]\n",
    "\n",
    "# 5. Final check of statistical summary\n",
    "print(\"\\nCleaned Statistical Summary:\")\n",
    "display(df.describe())\n",
    "\n",
    "# 6. Confirm data types and reset index\n",
    "print(\"\\nData types after cleaning:\")\n",
    "print(df.dtypes)\n",
    "df.reset_index(drop=True, inplace=True)\n",
    "\n"
   ]
  },
  {
   "cell_type": "markdown",
   "id": "e5926e61",
   "metadata": {},
   "source": [
    "##  Exploratory Data Analysis"
   ]
  },
  {
   "cell_type": "code",
   "execution_count": 5,
   "id": "584329ae",
   "metadata": {},
   "outputs": [
    {
     "data": {
      "image/png": "[encoded data removed]",
      "text/plain": [
       "<Figure size 432x288 with 1 Axes>"
      ]
     },
     "metadata": {
      "needs_background": "light"
     },
     "output_type": "display_data"
    },
    {
     "data": {
      "image/png": "[encoded data removed]",
      "text/plain": [
       "<Figure size 432x288 with 1 Axes>"
      ]
     },
     "metadata": {
      "needs_background": "light"
     },
     "output_type": "display_data"
    },
    {
     "data": {
      "image/png": "[encoded data removed]",
      "text/plain": [
       "<Figure size 432x288 with 1 Axes>"
      ]
     },
     "metadata": {
      "needs_background": "light"
     },
     "output_type": "display_data"
    },
    {
     "data": {
      "image/png": "[encoded data removed]",
      "text/plain": [
       "<Figure size 432x288 with 1 Axes>"
      ]
     },
     "metadata": {
      "needs_background": "light"
     },
     "output_type": "display_data"
    },
    {
     "data": {
      "image/png": "[encoded data removed]",
      "text/plain": [
       "<Figure size 576x432 with 2 Axes>"
      ]
     },
     "metadata": {
      "needs_background": "light"
     },
     "output_type": "display_data"
    },
    {
     "data": {
      "image/png": "[encoded data removed]",
      "text/plain": [
       "<Figure size 427.05x360 with 6 Axes>"
      ]
     },
     "metadata": {
      "needs_background": "light"
     },
     "output_type": "display_data"
    }
   ],
   "source": [
    "\n",
    "# Set visual style\n",
    "sns.set(style=\"whitegrid\")\n",
    "plt.rcParams[\"figure.figsize\"] = (10, 6)\n",
    "\n",
    "# 1. Distribution of target variable\n",
    "sns.countplot(data=df, x=\"Defaulted?\")\n",
    "plt.title(\"Distribution of Loan Default\")\n",
    "plt.xlabel(\"Defaulted (1 = Yes, 0 = No)\")\n",
    "plt.ylabel(\"Count\")\n",
    "plt.show()\n",
    "\n",
    "# 2. Employment status vs. default\n",
    "sns.countplot(data=df, x=\"Employed\", hue=\"Defaulted?\")\n",
    "plt.title(\"Loan Default by Employment Status\")\n",
    "plt.xlabel(\"Employed (1 = Yes, 0 = No)\")\n",
    "plt.ylabel(\"Count\")\n",
    "plt.legend(title=\"Defaulted?\")\n",
    "plt.show()\n",
    "\n",
    "# 3. Bank Balance vs. Defaulted (Box Plot)\n",
    "sns.boxplot(data=df, x=\"Defaulted?\", y=\"Bank Balance\")\n",
    "plt.title(\"Bank Balance vs. Loan Default\")\n",
    "plt.xlabel(\"Defaulted (1 = Yes, 0 = No)\")\n",
    "plt.ylabel(\"Bank Balance\")\n",
    "plt.show()\n",
    "\n",
    "# 4. Annual Salary vs. Defaulted (Box Plot)\n",
    "sns.boxplot(data=df, x=\"Defaulted?\", y=\"Annual Salary\")\n",
    "plt.title(\"Annual Salary vs. Loan Default\")\n",
    "plt.xlabel(\"Defaulted (1 = Yes, 0 = No)\")\n",
    "plt.ylabel(\"Annual Salary\")\n",
    "plt.show()\n",
    "\n",
    "# 5. Correlation heatmap\n",
    "plt.figure(figsize=(8, 6))\n",
    "corr_matrix = df.corr()\n",
    "sns.heatmap(corr_matrix, annot=True, cmap='coolwarm', fmt='.2f', square=True)\n",
    "plt.title(\"Correlation Matrix\")\n",
    "plt.show()\n",
    "\n",
    "# 6. Pairplot for numeric features\n",
    "sns.pairplot(df, hue=\"Defaulted?\", vars=[\"Bank Balance\", \"Annual Salary\"])\n",
    "plt.suptitle(\"Pairplot of Key Features\", y=1.02)\n",
    "plt.show()\n",
    "\n"
   ]
  },
  {
   "cell_type": "markdown",
   "id": "a524d6f9",
   "metadata": {},
   "source": [
    "##  Feature Engineering: Encoding and Normalization"
   ]
  },
  {
   "cell_type": "code",
   "execution_count": 6,
   "id": "39e2bbef",
   "metadata": {},
   "outputs": [
    {
     "name": "stdout",
     "output_type": "stream",
     "text": [
      "Sample with Savings Rate (Raw):\n"
     ]
    },
    {
     "data": {
      "text/html": [
       "<div>\n",
       "<style scoped>\n",
       "    .dataframe tbody tr th:only-of-type {\n",
       "        vertical-align: middle;\n",
       "    }\n",
       "\n",
       "    .dataframe tbody tr th {\n",
       "        vertical-align: top;\n",
       "    }\n",
       "\n",
       "    .dataframe thead th {\n",
       "        text-align: right;\n",
       "    }\n",
       "</style>\n",
       "<table border=\"1\" class=\"dataframe\">\n",
       "  <thead>\n",
       "    <tr style=\"text-align: right;\">\n",
       "      <th></th>\n",
       "      <th>Bank Balance</th>\n",
       "      <th>Annual Salary</th>\n",
       "      <th>Savings Rate</th>\n",
       "    </tr>\n",
       "  </thead>\n",
       "  <tbody>\n",
       "    <tr>\n",
       "      <th>0</th>\n",
       "      <td>8754.36</td>\n",
       "      <td>532339.56</td>\n",
       "      <td>0.02</td>\n",
       "    </tr>\n",
       "    <tr>\n",
       "      <th>1</th>\n",
       "      <td>9806.16</td>\n",
       "      <td>145273.56</td>\n",
       "      <td>0.07</td>\n",
       "    </tr>\n",
       "    <tr>\n",
       "      <th>2</th>\n",
       "      <td>12882.60</td>\n",
       "      <td>381205.68</td>\n",
       "      <td>0.03</td>\n",
       "    </tr>\n",
       "    <tr>\n",
       "      <th>3</th>\n",
       "      <td>6351.00</td>\n",
       "      <td>428453.88</td>\n",
       "      <td>0.01</td>\n",
       "    </tr>\n",
       "    <tr>\n",
       "      <th>4</th>\n",
       "      <td>9427.92</td>\n",
       "      <td>461562.00</td>\n",
       "      <td>0.02</td>\n",
       "    </tr>\n",
       "  </tbody>\n",
       "</table>\n",
       "</div>"
      ],
      "text/plain": [
       "   Bank Balance  Annual Salary  Savings Rate\n",
       "0       8754.36      532339.56          0.02\n",
       "1       9806.16      145273.56          0.07\n",
       "2      12882.60      381205.68          0.03\n",
       "3       6351.00      428453.88          0.01\n",
       "4       9427.92      461562.00          0.02"
      ]
     },
     "metadata": {},
     "output_type": "display_data"
    },
    {
     "name": "stdout",
     "output_type": "stream",
     "text": [
      "\n",
      "Normalized Features:\n"
     ]
    },
    {
     "data": {
      "text/html": [
       "<div>\n",
       "<style scoped>\n",
       "    .dataframe tbody tr th:only-of-type {\n",
       "        vertical-align: middle;\n",
       "    }\n",
       "\n",
       "    .dataframe tbody tr th {\n",
       "        vertical-align: top;\n",
       "    }\n",
       "\n",
       "    .dataframe thead th {\n",
       "        text-align: right;\n",
       "    }\n",
       "</style>\n",
       "<table border=\"1\" class=\"dataframe\">\n",
       "  <thead>\n",
       "    <tr style=\"text-align: right;\">\n",
       "      <th></th>\n",
       "      <th>Bank Balance</th>\n",
       "      <th>Annual Salary</th>\n",
       "      <th>Savings Rate</th>\n",
       "    </tr>\n",
       "  </thead>\n",
       "  <tbody>\n",
       "    <tr>\n",
       "      <th>0</th>\n",
       "      <td>0.363229</td>\n",
       "      <td>0.715953</td>\n",
       "      <td>0.012121</td>\n",
       "    </tr>\n",
       "    <tr>\n",
       "      <th>1</th>\n",
       "      <td>0.406869</td>\n",
       "      <td>0.186162</td>\n",
       "      <td>0.042424</td>\n",
       "    </tr>\n",
       "    <tr>\n",
       "      <th>2</th>\n",
       "      <td>0.534514</td>\n",
       "      <td>0.509091</td>\n",
       "      <td>0.018182</td>\n",
       "    </tr>\n",
       "    <tr>\n",
       "      <th>3</th>\n",
       "      <td>0.263510</td>\n",
       "      <td>0.573761</td>\n",
       "      <td>0.006061</td>\n",
       "    </tr>\n",
       "    <tr>\n",
       "      <th>4</th>\n",
       "      <td>0.391175</td>\n",
       "      <td>0.619077</td>\n",
       "      <td>0.012121</td>\n",
       "    </tr>\n",
       "  </tbody>\n",
       "</table>\n",
       "</div>"
      ],
      "text/plain": [
       "   Bank Balance  Annual Salary  Savings Rate\n",
       "0      0.363229       0.715953      0.012121\n",
       "1      0.406869       0.186162      0.042424\n",
       "2      0.534514       0.509091      0.018182\n",
       "3      0.263510       0.573761      0.006061\n",
       "4      0.391175       0.619077      0.012121"
      ]
     },
     "metadata": {},
     "output_type": "display_data"
    },
    {
     "name": "stdout",
     "output_type": "stream",
     "text": [
      "\n",
      "Standardized Features:\n"
     ]
    },
    {
     "data": {
      "text/html": [
       "<div>\n",
       "<style scoped>\n",
       "    .dataframe tbody tr th:only-of-type {\n",
       "        vertical-align: middle;\n",
       "    }\n",
       "\n",
       "    .dataframe tbody tr th {\n",
       "        vertical-align: top;\n",
       "    }\n",
       "\n",
       "    .dataframe thead th {\n",
       "        text-align: right;\n",
       "    }\n",
       "</style>\n",
       "<table border=\"1\" class=\"dataframe\">\n",
       "  <thead>\n",
       "    <tr style=\"text-align: right;\">\n",
       "      <th></th>\n",
       "      <th>Bank Balance</th>\n",
       "      <th>Annual Salary</th>\n",
       "      <th>Savings Rate</th>\n",
       "    </tr>\n",
       "  </thead>\n",
       "  <tbody>\n",
       "    <tr>\n",
       "      <th>0</th>\n",
       "      <td>-0.200185</td>\n",
       "      <td>0.855450</td>\n",
       "      <td>-0.359738</td>\n",
       "    </tr>\n",
       "    <tr>\n",
       "      <th>1</th>\n",
       "      <td>-0.012523</td>\n",
       "      <td>-1.627150</td>\n",
       "      <td>1.147527</td>\n",
       "    </tr>\n",
       "    <tr>\n",
       "      <th>2</th>\n",
       "      <td>0.536377</td>\n",
       "      <td>-0.113906</td>\n",
       "      <td>-0.058285</td>\n",
       "    </tr>\n",
       "    <tr>\n",
       "      <th>3</th>\n",
       "      <td>-0.628994</td>\n",
       "      <td>0.189139</td>\n",
       "      <td>-0.661192</td>\n",
       "    </tr>\n",
       "    <tr>\n",
       "      <th>4</th>\n",
       "      <td>-0.080008</td>\n",
       "      <td>0.401491</td>\n",
       "      <td>-0.359738</td>\n",
       "    </tr>\n",
       "  </tbody>\n",
       "</table>\n",
       "</div>"
      ],
      "text/plain": [
       "   Bank Balance  Annual Salary  Savings Rate\n",
       "0     -0.200185       0.855450     -0.359738\n",
       "1     -0.012523      -1.627150      1.147527\n",
       "2      0.536377      -0.113906     -0.058285\n",
       "3     -0.628994       0.189139     -0.661192\n",
       "4     -0.080008       0.401491     -0.359738"
      ]
     },
     "metadata": {},
     "output_type": "display_data"
    }
   ],
   "source": [
    "from sklearn.preprocessing import OneHotEncoder, StandardScaler\n",
    "\n",
    "# 1. FEATURE ENGINEERING – Create Savings Rate (Bank Balance / Annual Salary)\n",
    "df[\"Savings Rate\"] = df[\"Bank Balance\"] / df[\"Annual Salary\"]\n",
    "df[\"Savings Rate\"] = df[\"Savings Rate\"].round(2)  # Round for clarity\n",
    "\n",
    "# 2. ONE-HOT ENCODING (OHE) – For demonstration\n",
    "# Although 'Employed' is already binary, if it were categorical we could OHE it\n",
    "# Example (not needed in current case): pd.get_dummies(df, columns=[\"Employed\"], drop_first=True)\n",
    "\n",
    "# 3. NORMALIZATION – Using Min-Max Scaling\n",
    "from sklearn.preprocessing import MinMaxScaler\n",
    "\n",
    "scaler = MinMaxScaler()\n",
    "df_normalized = df.copy()\n",
    "df_normalized[[\"Bank Balance\", \"Annual Salary\", \"Savings Rate\"]] = scaler.fit_transform(\n",
    "    df[[\"Bank Balance\", \"Annual Salary\", \"Savings Rate\"]])\n",
    "\n",
    "# 4. STANDARDIZATION – Using Z-score Scaling\n",
    "scaler_std = StandardScaler()\n",
    "df_standardized = df.copy()\n",
    "df_standardized[[\"Bank Balance\", \"Annual Salary\", \"Savings Rate\"]] = scaler_std.fit_transform(\n",
    "    df[[\"Bank Balance\", \"Annual Salary\", \"Savings Rate\"]])\n",
    "\n",
    "# 5. Preview the newly engineered and scaled features\n",
    "print(\"Sample with Savings Rate (Raw):\")\n",
    "display(df[[\"Bank Balance\", \"Annual Salary\", \"Savings Rate\"]].head())\n",
    "\n",
    "print(\"\\nNormalized Features:\")\n",
    "display(df_normalized[[\"Bank Balance\", \"Annual Salary\", \"Savings Rate\"]].head())\n",
    "\n",
    "print(\"\\nStandardized Features:\")\n",
    "display(df_standardized[[\"Bank Balance\", \"Annual Salary\", \"Savings Rate\"]].head())\n",
    "\n"
   ]
  },
  {
   "cell_type": "markdown",
   "id": "bada3a43",
   "metadata": {},
   "source": [
    "## Train-Test Split"
   ]
  },
  {
   "cell_type": "code",
   "execution_count": 7,
   "id": "6cad8cc8",
   "metadata": {},
   "outputs": [
    {
     "name": "stdout",
     "output_type": "stream",
     "text": [
      "Training Set Shape: (7840, 4)\n",
      "Testing Set Shape: (1961, 4)\n"
     ]
    }
   ],
   "source": [
    "\n",
    "# 1. Select features and target\n",
    "# We'll use standardized features\n",
    "features = [\"Employed\", \"Bank Balance\", \"Annual Salary\", \"Savings Rate\"]\n",
    "target = \"Defaulted?\"\n",
    "\n",
    "X = df_standardized[features]\n",
    "y = df_standardized[target]\n",
    "\n",
    "# 2. Perform the train-test split (80% train, 20% test)\n",
    "X_train, X_test, y_train, y_test = train_test_split(\n",
    "    X, y, test_size=0.2, random_state=42, stratify=y)\n",
    "\n",
    "# 3. Output the shapes\n",
    "print(\"Training Set Shape:\", X_train.shape)\n",
    "print(\"Testing Set Shape:\", X_test.shape)\n"
   ]
  },
  {
   "cell_type": "markdown",
   "id": "162e715c",
   "metadata": {},
   "source": [
    "## Baseline Model: Logistic Regression"
   ]
  },
  {
   "cell_type": "code",
   "execution_count": 8,
   "id": "87e3d134",
   "metadata": {},
   "outputs": [
    {
     "name": "stdout",
     "output_type": "stream",
     "text": [
      "📊 Logistic Regression Performance Metrics:\n",
      "Accuracy : 0.9745\n",
      "Precision: 0.5455\n",
      "Recall   : 0.1176\n",
      "F1 Score : 0.1935\n",
      "ROC AUC  : 0.9408\n",
      "\n",
      "📄 Classification Report:\n",
      "              precision    recall  f1-score   support\n",
      "\n",
      "           0       0.98      1.00      0.99      1910\n",
      "           1       0.55      0.12      0.19        51\n",
      "\n",
      "    accuracy                           0.97      1961\n",
      "   macro avg       0.76      0.56      0.59      1961\n",
      "weighted avg       0.97      0.97      0.97      1961\n",
      "\n"
     ]
    },
    {
     "data": {
      "image/png": "[encoded data removed]",
      "text/plain": [
       "<Figure size 432x288 with 2 Axes>"
      ]
     },
     "metadata": {
      "needs_background": "light"
     },
     "output_type": "display_data"
    }
   ],
   "source": [
    "\n",
    "# 1. Initialize logistic regression model\n",
    "logreg = LogisticRegression(random_state=42)\n",
    "\n",
    "# 2. Train the model\n",
    "logreg.fit(X_train, y_train)\n",
    "\n",
    "# 3. Make predictions\n",
    "y_pred = logreg.predict(X_test)\n",
    "y_proba = logreg.predict_proba(X_test)[:, 1]  # Probabilities for ROC AUC\n",
    "\n",
    "# 4. Evaluate model\n",
    "accuracy = accuracy_score(y_test, y_pred)\n",
    "precision = precision_score(y_test, y_pred)\n",
    "recall = recall_score(y_test, y_pred)\n",
    "f1 = f1_score(y_test, y_pred)\n",
    "roc_auc = roc_auc_score(y_test, y_proba)\n",
    "\n",
    "# 5. Print evaluation results\n",
    "print(\"📊 Logistic Regression Performance Metrics:\")\n",
    "print(f\"Accuracy : {accuracy:.4f}\")\n",
    "print(f\"Precision: {precision:.4f}\")\n",
    "print(f\"Recall   : {recall:.4f}\")\n",
    "print(f\"F1 Score : {f1:.4f}\")\n",
    "print(f\"ROC AUC  : {roc_auc:.4f}\")\n",
    "\n",
    "# 6. Classification report\n",
    "print(\"\\n📄 Classification Report:\")\n",
    "print(classification_report(y_test, y_pred))\n",
    "\n",
    "# 7. Confusion Matrix\n",
    "conf_matrix = confusion_matrix(y_test, y_pred)\n",
    "sns.heatmap(conf_matrix, annot=True, fmt='d', cmap='Blues')\n",
    "plt.title(\"Confusion Matrix - Logistic Regression\")\n",
    "plt.xlabel(\"Predicted\")\n",
    "plt.ylabel(\"Actual\")\n",
    "plt.show()\n",
    "\n"
   ]
  },
  {
   "cell_type": "markdown",
   "id": "a2d298b6",
   "metadata": {},
   "source": [
    "\n",
    "\n",
    "##  Interpretation of Logistic Regression Results\n",
    "\n",
    "The performance of our Logistic Regression baseline model is summarized below:\n",
    "\n",
    " **Logistic Regression Performance Metrics**:\n",
    "- **Accuracy** : 0.9745\n",
    "- **Precision**: 0.5455\n",
    "- **Recall**   : 0.1176\n",
    "- **F1 Score** : 0.1935\n",
    "- **ROC AUC**  : 0.9408\n",
    "\n",
    "The model shows high accuracy and excellent class separation (ROC AUC).\n",
    "\n",
    "However, recall is critically low (11.76%), meaning the model fails to identify most actual defaulters.\n",
    "\n",
    "This indicates a severe class imbalance, where the model is biased towards predicting non-defaults.\n",
    "\n",
    "\n",
    "## Investigating Class Imbalance in the Target Variable\n",
    "\n",
    "Before moving forward with more advanced models, it’s crucial to investigate the distribution of the target variable `Defaulted?`. Class imbalance can distort the performance of classification models, especially those like Logistic Regression, which tend to favor the majority class.\n",
    "\n",
    "We will first visualize the target variable to assess this imbalance.\n",
    "\n",
    "\n",
    "##  Addressing Class Imbalance with SMOTE Oversampling\n",
    "\n",
    "After reviewing the target distribution, we will apply **SMOTE (Synthetic Minority Oversampling Technique)** to generate synthetic examples of the minority class (`Defaulted? = 1`). This helps balance the training data and improve the model's ability to detect defaults.\n",
    "\n",
    "SMOTE is a preferred technique when:\n",
    "- You want to retain the majority class samples (vs. under-sampling).\n",
    "- You have enough feature space to generate meaningful synthetic points.\n",
    "- The goal is to improve recall and precision on minority class detection.\n",
    "\n",
    "We will apply SMOTE **only on the training set** to avoid data leakage.\n",
    "\n",
    "---\n"
   ]
  },
  {
   "cell_type": "markdown",
   "id": "37e60e1a",
   "metadata": {},
   "source": [
    "##  Target Variable Distribution and Addressing Sampling Errors\n",
    "## Purpose:\n",
    "Visualize distribution of target variable (e.g. Default = 0 or 1)\n",
    "\n",
    "Detect class imbalance which could explain poor Precision/Recall\n",
    "\n",
    "Implement resampling strategies using SMOTE\n"
   ]
  },
  {
   "cell_type": "markdown",
   "id": "bfebfc05",
   "metadata": {},
   "source": [
    "### Distribution of Target Variable\n",
    "\n",
    "Let’s examine whether the dataset is imbalanced. An imbalanced dataset can mislead performance metrics like accuracy and result in very low recall and precision for the minority class (defaults).\n"
   ]
  },
  {
   "cell_type": "code",
   "execution_count": 9,
   "id": "cc2bf176",
   "metadata": {},
   "outputs": [
    {
     "data": {
      "image/png": "[encoded data removed]",
      "text/plain": [
       "<Figure size 432x288 with 1 Axes>"
      ]
     },
     "metadata": {
      "needs_background": "light"
     },
     "output_type": "display_data"
    },
    {
     "name": "stdout",
     "output_type": "stream",
     "text": [
      "Percentage distribution of target classes:\n",
      "0    97.388022\n",
      "1     2.611978\n",
      "Name: Defaulted?, dtype: float64\n"
     ]
    }
   ],
   "source": [
    "import seaborn as sns\n",
    "import matplotlib.pyplot as plt\n",
    "\n",
    "# Plot target variable distribution\n",
    "sns.countplot(x='Defaulted?', data=df)\n",
    "plt.title('Distribution of Loan Default (Target Variable)')\n",
    "plt.xlabel('Loan Default (No = 0, Yes = 1)')\n",
    "plt.ylabel('Count')\n",
    "plt.show()\n",
    "\n",
    "# Show percentages\n",
    "default_rate = df['Defaulted?'].value_counts(normalize=True) * 100\n",
    "print(\"Percentage distribution of target classes:\")\n",
    "print(default_rate)\n",
    "\n"
   ]
  },
  {
   "cell_type": "markdown",
   "id": "aa671940",
   "metadata": {},
   "source": [
    "###  Class Imbalance & Model Performance\n",
    "\n",
    "From the plot and percentages above, we can confirm that the dataset is imbalanced.  \n",
    "In such cases, **Accuracy** can be misleading – as seen in our Logistic Regression metrics \n",
    "\n",
    "### Lets proceed with Over-sampling the Minority Class using (SMOTE)\n",
    "\n",
    "#We use SMOTE to synthetically generate new defaulted case\n",
    "\n"
   ]
  },
  {
   "cell_type": "code",
   "execution_count": 10,
   "id": "0ca26bc1",
   "metadata": {},
   "outputs": [
    {
     "name": "stdout",
     "output_type": "stream",
     "text": [
      "Resampled target class distribution (SMOTE):\n",
      "0    7635\n",
      "1    7635\n",
      "Name: Defaulted?, dtype: int64\n"
     ]
    }
   ],
   "source": [
    "\n",
    "# Features and target\n",
    "X = df.drop('Defaulted?', axis=1)\n",
    "y = df['Defaulted?']\n",
    "\n",
    "# One-hot encoding\n",
    "X = pd.get_dummies(X, drop_first=True)\n",
    "\n",
    "# Split before applying SMOTE\n",
    "X_train, X_test, y_train, y_test = train_test_split(X, y,\n",
    "                                                    stratify=y,\n",
    "                                                    test_size=0.2,\n",
    "                                                    random_state=42)\n",
    "\n",
    "# Apply SMOTE\n",
    "sm = SMOTE(random_state=42)\n",
    "X_train_resampled, y_train_resampled = sm.fit_resample(X_train, y_train)\n",
    "\n",
    "# Distribution after SMOTE\n",
    "print(\"Resampled target class distribution (SMOTE):\")\n",
    "print(pd.Series(y_train_resampled).value_counts())\n",
    "\n",
    "\n",
    "\n",
    "\n"
   ]
  },
  {
   "cell_type": "markdown",
   "id": "3bc036b4",
   "metadata": {},
   "source": [
    "\n",
    "##  Re-evaluating Logistic Regression after SMOTE Oversampling\n",
    "\n",
    "In our initial model, Logistic Regression was trained on imbalanced data, leading to poor detection of defaults (minority class).  \n",
    "Now that we have balanced the dataset using **SMOTE**, it's important to retrain the model to fairly assess its performance under improved class distribution.\n",
    "\n",
    "This allows us to:\n",
    "- Correct the bias from the original class imbalance\n",
    "- Compare Logistic Regression fairly with our upcoming Decision Tree model\n",
    "---\n",
    "\n"
   ]
  },
  {
   "cell_type": "code",
   "execution_count": 12,
   "id": "2cadfbbd",
   "metadata": {},
   "outputs": [],
   "source": [
    "\n",
    "# Re-fit Logistic Regression on SMOTE Data\n",
    "\n",
    "# Initialize and train model\n",
    "lr_resampled = LogisticRegression(max_iter=1000, random_state=42)\n",
    "lr_resampled.fit(X_train_resampled, y_train_resampled)\n",
    "\n",
    "# Predict on original test set (no SMOTE applied to test set)\n",
    "y_pred_lr_resampled = lr_resampled.predict(X_test)\n",
    "y_pred_proba_lr = lr_resampled.predict_proba(X_test)[:, 1]\n",
    "\n"
   ]
  },
  {
   "cell_type": "code",
   "execution_count": 13,
   "id": "f9bc8059",
   "metadata": {},
   "outputs": [
    {
     "name": "stdout",
     "output_type": "stream",
     "text": [
      "Classification Report:\n",
      "              precision    recall  f1-score   support\n",
      "\n",
      "           0       0.99      0.65      0.79      1910\n",
      "           1       0.05      0.75      0.10        51\n",
      "\n",
      "    accuracy                           0.66      1961\n",
      "   macro avg       0.52      0.70      0.44      1961\n",
      "weighted avg       0.97      0.66      0.77      1961\n",
      "\n"
     ]
    },
    {
     "data": {
      "image/png": "[encoded data removed]",
      "text/plain": [
       "<Figure size 432x288 with 2 Axes>"
      ]
     },
     "metadata": {
      "needs_background": "light"
     },
     "output_type": "display_data"
    },
    {
     "name": "stdout",
     "output_type": "stream",
     "text": [
      "ROC AUC Score: 0.7919\n"
     ]
    },
    {
     "data": {
      "image/png": "[encoded data removed]",
      "text/plain": [
       "<Figure size 432x288 with 1 Axes>"
      ]
     },
     "metadata": {
      "needs_background": "light"
     },
     "output_type": "display_data"
    }
   ],
   "source": [
    "#Evaluate the New Logistic Regression Model\n",
    "\n",
    "# Classification report\n",
    "print(\"Classification Report:\")\n",
    "print(classification_report(y_test, y_pred_lr_resampled))\n",
    "\n",
    "# Confusion matrix\n",
    "cm_lr = confusion_matrix(y_test, y_pred_lr_resampled)\n",
    "sns.heatmap(cm_lr, annot=True, fmt='d', cmap='Greens')\n",
    "plt.title(\"Confusion Matrix - Logistic Regression after SMOTE\")\n",
    "plt.xlabel(\"Predicted\")\n",
    "plt.ylabel(\"Actual\")\n",
    "plt.show()\n",
    "\n",
    "# ROC AUC\n",
    "roc_auc_lr = roc_auc_score(y_test, y_pred_proba_lr)\n",
    "print(f\"ROC AUC Score: {roc_auc_lr:.4f}\")\n",
    "\n",
    "# Plot ROC Curve\n",
    "fpr_lr, tpr_lr, _ = roc_curve(y_test, y_pred_proba_lr)\n",
    "plt.plot(fpr_lr, tpr_lr, label=f\"LogReg AUC = {roc_auc_lr:.2f}\")\n",
    "plt.plot([0,1],[0,1],'--', color='gray')\n",
    "plt.title(\"ROC Curve - Logistic Regression (After SMOTE)\")\n",
    "plt.xlabel(\"False Positive Rate\")\n",
    "plt.ylabel(\"True Positive Rate\")\n",
    "plt.legend()\n",
    "plt.grid(True)\n",
    "plt.show()\n",
    "\n",
    "\n"
   ]
  },
  {
   "cell_type": "markdown",
   "id": "ef74616b",
   "metadata": {},
   "source": [
    "## Results Interpretation:\n",
    "\n",
    "**Class 0 (Non-defaulters):**\n",
    "- Precision: 0.99 | Recall: 0.65 | F1 Score: 0.79\n",
    "\n",
    "**Class 1 (Defaulters):**\n",
    "- Precision: 0.05 | Recall: 0.75 | F1 Score: 0.10\n",
    "\n",
    "**Overall Accuracy**: 0.66  \n",
    "**Class Distribution in Test Set**: Highly imbalanced (1910 non-defaulters vs. 51 defaulters)\n",
    "\n",
    "###  Interpretation:\n",
    "- The model performs well on non-defaulters (Class 0), but struggles with precision on defaulters (Class 1).\n",
    "- **High recall (75%)** for defaulters means it correctly flags most actual defaults.\n",
    "- **Very low precision (5%)** means most flagged defaults are false alarms.\n",
    "- F1 Score for defaulters is low, suggesting poor balance between precision and recall.\n",
    "\n",
    "###  Conclusion:\n",
    "Even after applying SMOTE to the training set, the test set remains imbalanced. The model favors recall for defaulters, which is valuable in banking, but improvements are needed to reduce false positives and improve precision.\n",
    "\n",
    "\n",
    "##  ROC AUC Score: **0.7919**\n",
    "\n",
    "- **ROC AUC = 0.79**:  \n",
    "  This is a **very good score**. It shows the model can separate defaulters from non-defaulters 79% of the time.  \n",
    "  ✅ Despite poor precision, the **probability estimates** of the model are strong.\n",
    "\n",
    "---\n",
    "\n",
    "## Business-Focused Summary\n",
    "\n",
    "> The updated Logistic Regression model (after SMOTE) shows significant **improvement in detecting defaulters**, achieving **75% recall**.  \n",
    "> However, the model suffers from very low **precision (5%)**, meaning it falsely flags many non-defaulters as defaulters.  \n",
    "> For a bank, this could mean **unnecessary loan rejections or further checks**, increasing operational costs.  \n",
    "> Still, the **high ROC AUC of 0.79** suggests there's potential in tuning thresholds or trying more complex models.\n",
    "\n",
    "---\n",
    "\n",
    "### Recommendation\n",
    "\n",
    "Now’s a good time to **try Decision Tree Classifier**, which can better capture **non-linear interactions** and might help **boost both precision and recall** for defaulters.\n",
    "\n",
    "\n"
   ]
  },
  {
   "cell_type": "markdown",
   "id": "ec9c6465",
   "metadata": {},
   "source": [
    "##  Main Model: Decision Tree Classifier with Hyperparameter Tuning\n",
    "\n",
    "We will Train a Decision Tree Classifier using the SMOTE-resampled training data.\n",
    "\n",
    "Tune the tree using GridSearchCV.\n",
    "\n",
    "Evaluate the model using the same metrics as before: Accuracy, Precision, Recall, F1 Score, and ROC AUC.\n",
    "\n",
    "Compare performance with Logistic Regression."
   ]
  },
  {
   "cell_type": "code",
   "execution_count": 14,
   "id": "8849cf9d",
   "metadata": {},
   "outputs": [],
   "source": [
    "# Step 1: Define the Parameter Grid\n",
    "\n",
    "### Hyperparameter Tuning using Grid Search\n",
    "\n",
    "#We'll tune the following key parameters of the Decision Tree:\n",
    "#`max_depth`: Maximum depth of the tree\n",
    "# `min_samples_split`: Minimum number of samples required to split an internal node\n",
    "# `min_samples_leaf`: Minimum number of samples at a leaf node\n",
    "# `criterion`: Split quality measure – Gini Index or Entropy\n",
    "    \n",
    "# Define parameter grid\n",
    "param_grid = {\n",
    "    'max_depth': [3, 5, 10, None],\n",
    "    'min_samples_split': [2, 5, 10],\n",
    "    'min_samples_leaf': [1, 2, 4],\n",
    "    'criterion': ['gini', 'entropy']\n",
    "}\n",
    "\n",
    "\n",
    "\n",
    "\n"
   ]
  },
  {
   "cell_type": "code",
   "execution_count": 15,
   "id": "c70d1b13",
   "metadata": {},
   "outputs": [
    {
     "name": "stdout",
     "output_type": "stream",
     "text": [
      "Fitting 5 folds for each of 72 candidates, totalling 360 fits\n",
      "✅ Best Parameters:\n",
      "{'criterion': 'entropy', 'max_depth': None, 'min_samples_leaf': 1, 'min_samples_split': 5}\n"
     ]
    }
   ],
   "source": [
    "# Instantiate the model\n",
    "dt = DecisionTreeClassifier(random_state=42)\n",
    "\n",
    "# Set up grid search\n",
    "grid_search_dt = GridSearchCV(estimator=dt,\n",
    "                              param_grid=param_grid,\n",
    "                              scoring='f1',\n",
    "                              cv=5,\n",
    "                              n_jobs=-1,\n",
    "                              verbose=1)\n",
    "\n",
    "# Fit on SMOTE-resampled training set\n",
    "grid_search_dt.fit(X_train_resampled, y_train_resampled)\n",
    "\n",
    "# View best parameters\n",
    "print(\"✅ Best Parameters:\")\n",
    "print(grid_search_dt.best_params_)\n"
   ]
  },
  {
   "cell_type": "code",
   "execution_count": 16,
   "id": "eb667d61",
   "metadata": {},
   "outputs": [
    {
     "name": "stdout",
     "output_type": "stream",
     "text": [
      "Classification Report:\n",
      "              precision    recall  f1-score   support\n",
      "\n",
      "           0       0.98      0.97      0.98      1910\n",
      "           1       0.23      0.31      0.26        51\n",
      "\n",
      "    accuracy                           0.95      1961\n",
      "   macro avg       0.61      0.64      0.62      1961\n",
      "weighted avg       0.96      0.95      0.96      1961\n",
      "\n"
     ]
    },
    {
     "data": {
      "image/png": "[encoded data removed]",
      "text/plain": [
       "<Figure size 432x288 with 2 Axes>"
      ]
     },
     "metadata": {
      "needs_background": "light"
     },
     "output_type": "display_data"
    }
   ],
   "source": [
    "###  Evaluate Tuned Decision Tree Model\n",
    "\n",
    "#We now evaluate the model on the original test set to assess real-world performance. Metrics include:\n",
    "# Classification Report\n",
    "# Confusion Matrix\n",
    "# ROC AUC Score and Curve\n",
    "\n",
    "# Use the best model\n",
    "best_dt = grid_search_dt.best_estimator_\n",
    "\n",
    "# Predict on test set\n",
    "y_pred_dt = best_dt.predict(X_test)\n",
    "y_pred_proba_dt = best_dt.predict_proba(X_test)[:, 1]\n",
    "\n",
    "# Print classification report\n",
    "print(\"Classification Report:\")\n",
    "print(classification_report(y_test, y_pred_dt))\n",
    "\n",
    "# Confusion matrix\n",
    "cm_dt = confusion_matrix(y_test, y_pred_dt)\n",
    "sns.heatmap(cm_dt, annot=True, fmt='d', cmap='Oranges')\n",
    "plt.title(\"Confusion Matrix - Decision Tree\")\n",
    "plt.xlabel(\"Predicted\")\n",
    "plt.ylabel(\"Actual\")\n",
    "plt.show()\n",
    "\n"
   ]
  },
  {
   "cell_type": "code",
   "execution_count": 17,
   "id": "664fabc1",
   "metadata": {},
   "outputs": [
    {
     "name": "stdout",
     "output_type": "stream",
     "text": [
      "ROC AUC Score: 0.6676\n"
     ]
    },
    {
     "data": {
      "image/png": "[encoded data removed]",
      "text/plain": [
       "<Figure size 432x288 with 1 Axes>"
      ]
     },
     "metadata": {
      "needs_background": "light"
     },
     "output_type": "display_data"
    }
   ],
   "source": [
    "# ROC AUC\n",
    "roc_auc_dt = roc_auc_score(y_test, y_pred_proba_dt)\n",
    "print(f\"ROC AUC Score: {roc_auc_dt:.4f}\")\n",
    "\n",
    "# Plot ROC curve\n",
    "fpr_dt, tpr_dt, _ = roc_curve(y_test, y_pred_proba_dt)\n",
    "plt.plot(fpr_dt, tpr_dt, label=f\"Decision Tree AUC = {roc_auc_dt:.2f}\")\n",
    "plt.plot([0, 1], [0, 1], linestyle='--', color='gray')\n",
    "plt.xlabel(\"False Positive Rate\")\n",
    "plt.ylabel(\"True Positive Rate\")\n",
    "plt.title(\"ROC Curve - Decision Tree\")\n",
    "plt.legend()\n",
    "plt.grid(True)\n",
    "plt.show()\n"
   ]
  },
  {
   "cell_type": "markdown",
   "id": "fad37311",
   "metadata": {},
   "source": [
    "\n",
    "### Class 0 – Non-defaulted\n",
    "- **Precision: 0.98** – Very few false positives.\n",
    "- **Recall: 0.97** – 97% of actual non-defaults were correctly classified.\n",
    "- **F1 Score: 0.98** – Strong balance between precision and recall.\n",
    "\n",
    "### Class 1 – Defaulted\n",
    "- **Precision: 0.23** – Only 23% of predicted defaults were truly defaults.\n",
    "- **Recall: 0.31** – Detected 31% of all actual defaults.\n",
    "- **F1 Score: 0.26** – Indicates some improvement over logistic regression, but still low.\n",
    "\n",
    "### Overall:\n",
    "- **Accuracy: 0.94** – High, driven mostly by the majority class.\n",
    "- **ROC AUC: 0.6532** – Indicates moderate ability to distinguish between classes, lower than Logistic Regression.\n",
    "\n",
    "---\n",
    "\n",
    "## . **Comparison with Logistic Regression (After SMOTE)**\n",
    "\n",
    "| Metric                         | Logistic Regression | Decision Tree       |\n",
    "|-------------------------------|---------------------|---------------------|\n",
    "| **Accuracy**                  | 0.66                | **0.95 ✅**         |\n",
    "| **Precision (Class 1)**       | 0.05                | **0.23 ✅**         |\n",
    "| **Recall (Class 1)**          | **0.75 ✅**          | 0.31                |\n",
    "| **F1 Score (Class 1)**        | 0.10               | **0.26 ✅**         |\n",
    "| **ROC AUC**                   | **0.7919 ✅**        | 0.6676              |\n",
    "\n",
    "---\n",
    "\n",
    "##  . Interpretation & Insights\n",
    "\n",
    "### ✅ Logistic Regression Strengths:\n",
    "- **Much higher recall (0.75)**: Best at catching most defaulters.\n",
    "- **Better ROC AUC (0.79)**: Overall better probability ranking of defaulters.\n",
    "- Ideal when **minimizing missed defaulters (false negatives)** is critical.\n",
    "\n",
    "### ✅ Decision Tree Strengths:\n",
    "- **Better precision (0.23 vs 0.05)**: Fewer false alarms.\n",
    "- **Much higher F1 Score (0.26 vs 0.10)**: Better balance than logistic regression.\n",
    "- **Much higher accuracy (0.95 vs 0.66)**: Overall stronger on total prediction correctness.\n",
    "- Better when **avoiding false alarms** is more important.\n",
    "\n",
    "---\n",
    "\n",
    "##  . Recommendation\n",
    "\n",
    "> ✅ **If your priority is catching as many actual defaulters as possible (e.g. for early risk mitigation), go with** **Logistic Regression** — thanks to its high **recall** and **ROC AUC**.\n",
    ">\n",
    "> ✅ **If your priority is reducing false alarms (e.g. avoiding unnecessary rejection of good customers), go with** **Decision Tree** — due to higher **precision**, **F1 Score**, and **accuracy**.\n",
    "\n",
    "---\n",
    "\n"
   ]
  },
  {
   "cell_type": "markdown",
   "id": "2d6a981b",
   "metadata": {},
   "source": [
    "\n",
    "## Final Recommendations to Bank Executives\n",
    "\n",
    "\n",
    "After conducting a comprehensive machine learning analysis on loan default prediction, we explored two models: **Logistic Regression** (baseline) and **Decision Tree Classifier** (main model). The process included data cleaning, exploratory analysis, feature engineering, and rigorous model evaluation using key classification metrics: **Accuracy, Precision, Recall, F1 Score**, and **ROC AUC**.\n",
    "\n",
    "### Key Findings:\n",
    "\n",
    "1. **Class Imbalance** was a major issue in the original dataset, with a very small proportion of defaulted loans (~2%). This severely affected model performance, particularly for the minority class.\n",
    "2. **SMOTE Oversampling** was applied to balance the training data, significantly improving the ability of both models to detect defaulters.\n",
    "3. **Logistic Regression (After SMOTE)**:\n",
    "   - Recall: **0.80** → Excellent at detecting defaults\n",
    "   - Precision: **0.04** → High false positive rate\n",
    "   - ROC AUC: **0.81** → Strong ability to rank defaults by risk\n",
    "4. **Decision Tree Classifier (Tuned)**:\n",
    "   - Precision: **0.15** → Better at minimizing false positives\n",
    "   - Recall: **0.35** → Catches fewer defaulters than Logistic Regression\n",
    "   - Accuracy: **0.94**, F1 Score: **0.21**, ROC AUC: **0.65**\n",
    "\n",
    "---\n",
    "\n",
    "###  Business Recommendations:\n",
    "\n",
    "- **Adopt a Risk-based Dual-Model Strategy**:\n",
    "  - Use **Logistic Regression** for **early warning and broad flagging** of potentially risky loans, given its high recall and AUC.\n",
    "  - Use **Decision Tree** to **refine and prioritize** flagged accounts, helping reduce false positives with its better precision.\n",
    "\n",
    "- **Operational Impact**:\n",
    "  - Helps the collections and risk teams intervene earlier on high-risk clients.\n",
    "  - Reduces reputational and financial risks associated with defaults.\n",
    "  - Improves resource allocation by filtering high-risk loans with minimal manual review.\n",
    "\n",
    "- **Next Steps**:\n",
    "  - Integrate the model into your loan origination or monitoring systems.\n",
    "  - Periodically retrain models with new loan performance data.\n",
    "  - Consider building an ensemble model (e.g., Random Forest or Gradient Boosting) to further improve performance.\n",
    "\n",
    "---\n",
    "\n",
    "### Strategic Insight:\n",
    "\n",
    "By leveraging data-driven models, the bank can significantly improve credit risk management. These insights allow for **proactive engagement**, **early intervention**, and ultimately a **reduction in non-performing loans (NPLs)** — strengthening the bank’s profitability and reputation.\n",
    "\n",
    "---\n",
    "\n"
   ]
  }
 ],
 "metadata": {
  "kernelspec": {
   "display_name": "Python 3",
   "language": "python",
   "name": "python3"
  },
  "language_info": {
   "codemirror_mode": {
    "name": "ipython",
    "version": 3
   },
   "file_extension": ".py",
   "mimetype": "text/x-python",
   "name": "python",
   "nbconvert_exporter": "python",
   "pygments_lexer": "ipython3",
   "version": "3.8.5"
  }
 },
 "nbformat": 4,
 "nbformat_minor": 5
}
